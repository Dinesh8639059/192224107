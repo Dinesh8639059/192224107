{
  "nbformat": 4,
  "nbformat_minor": 0,
  "metadata": {
    "colab": {
      "provenance": [],
      "include_colab_link": true
    },
    "kernelspec": {
      "name": "python3",
      "display_name": "Python 3"
    },
    "language_info": {
      "name": "python"
    }
  },
  "cells": [
    {
      "cell_type": "markdown",
      "metadata": {
        "id": "view-in-github",
        "colab_type": "text"
      },
      "source": [
        "<a href=\"https://colab.research.google.com/github/Dinesh8639059/192224107/blob/main/Worksheet6.ipynb\" target=\"_parent\"><img src=\"https://colab.research.google.com/assets/colab-badge.svg\" alt=\"Open In Colab\"/></a>"
      ]
    },
    {
      "cell_type": "markdown",
      "source": [
        "Sort an array according to the order defined by another array\n",
        "\n",
        "arr1 = [2, 1, 2, 5, 7, 1, 9, 3, 6, 8, 8]\n",
        "\n",
        "arr2 = [2, 1, 8, 3]\n",
        "\n",
        "Output:\n",
        "\n",
        "[2, 2, 1, 1, 8, 8, 3, 5, 6, 7, 9]\n",
        "\n",
        "Explanation\n",
        "\n",
        "Elements in arr2 define the custom order.\n",
        "\n",
        "The remaining elements not in arr2 are sorted at the end in ascending order."
      ],
      "metadata": {
        "id": "Kra22Gu_TyKN"
      }
    },
    {
      "cell_type": "code",
      "source": [
        "\n",
        "def sort_array(arr1, arr2):\n",
        "  d = {}\n",
        "  for i in range(len(arr2)):\n",
        "    d[arr2[i]] = i\n",
        "\n",
        "  arr1.sort(key = lambda x : d.get(x, 1000000))\n",
        "\n",
        "  return arr1\n",
        "\n",
        "arr1 = [2, 1, 2, 5, 7, 1, 9, 3, 6, 8, 8]\n",
        "arr2 = [2, 1, 8, 3]\n",
        "\n",
        "print(sort_array(arr1, arr2))\n"
      ],
      "metadata": {
        "id": "PvKxTJCZUNlD",
        "outputId": "c12bb822-421c-46e1-9f29-910842020682",
        "colab": {
          "base_uri": "https://localhost:8080/"
        }
      },
      "execution_count": 1,
      "outputs": [
        {
          "output_type": "stream",
          "name": "stdout",
          "text": [
            "[2, 2, 1, 1, 8, 8, 3, 5, 7, 9, 6]\n"
          ]
        }
      ]
    },
    {
      "cell_type": "markdown",
      "source": [
        "Find all Palindrome numbers in a given range\n",
        "\n",
        "Input:  start = 10, end = 150  \n",
        "\n",
        "\n",
        "Output: [11, 22, 33, 44, 55, 66, 77, 88, 99, 101, 111, 121, 131, 141]"
      ],
      "metadata": {
        "id": "oJpBuqN3UOC_"
      }
    },
    {
      "cell_type": "code",
      "source": [
        "def is_palindrome(n):\n",
        "    return str(n) == str(n)[::-1]\n",
        "\n",
        "def find_palindromes(start, end):\n",
        "    palindromes = []\n",
        "    for num in range(start, end + 1):\n",
        "        if is_palindrome(num):\n",
        "            palindromes.append(num)\n",
        "    return palindromes\n",
        "\n",
        "start = 10\n",
        "end = 150\n",
        "result = find_palindromes(start, end)\n",
        "result\n"
      ],
      "metadata": {
        "id": "Px_w9mfls9BG",
        "outputId": "d3c25101-a0c9-4137-bd42-3bd10d6efbd7",
        "colab": {
          "base_uri": "https://localhost:8080/"
        }
      },
      "execution_count": 3,
      "outputs": [
        {
          "output_type": "execute_result",
          "data": {
            "text/plain": [
              "[11, 22, 33, 44, 55, 66, 77, 88, 99, 101, 111, 121, 131, 141]"
            ]
          },
          "metadata": {},
          "execution_count": 3
        }
      ]
    }
  ]
}